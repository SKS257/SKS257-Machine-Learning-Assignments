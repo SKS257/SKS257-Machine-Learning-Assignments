{
 "cells": [
  {
   "cell_type": "code",
   "execution_count": 1,
   "id": "0059e65f",
   "metadata": {},
   "outputs": [],
   "source": [
    "import numpy as np"
   ]
  },
  {
   "cell_type": "code",
   "execution_count": 2,
   "id": "df51749a",
   "metadata": {},
   "outputs": [
    {
     "data": {
      "text/plain": [
       "array([-10,  -9,  -8,  -7,  -6,  -5,  -4,  -3,  -2,  -1,   0,   1,   2,\n",
       "         3,   4,   5,   6,   7,   8,   9])"
      ]
     },
     "execution_count": 2,
     "metadata": {},
     "output_type": "execute_result"
    }
   ],
   "source": [
    "## Creating an array of integers(-10 - 10)\n",
    "a=np.array(range(-10,10))\n",
    "a"
   ]
  },
  {
   "cell_type": "code",
   "execution_count": 3,
   "id": "1ac09ab4",
   "metadata": {},
   "outputs": [
    {
     "data": {
      "text/plain": [
       "array([ 3,  4,  5,  6,  7,  8,  9, 10, 11, 12, 13, 14, 15, 16, 17, 18, 19,\n",
       "       20])"
      ]
     },
     "execution_count": 3,
     "metadata": {},
     "output_type": "execute_result"
    }
   ],
   "source": [
    "## 2.creating an array of D\n",
    "D=np.array(range(18))+3\n",
    "D"
   ]
  },
  {
   "cell_type": "code",
   "execution_count": 4,
   "id": "b052cf04",
   "metadata": {},
   "outputs": [
    {
     "data": {
      "text/plain": [
       "array([ 4,  5,  6,  7,  8,  9, 10, 11, 12])"
      ]
     },
     "execution_count": 4,
     "metadata": {},
     "output_type": "execute_result"
    }
   ],
   "source": [
    "## a.creating a varible x\n",
    "x=D[1:10]\n",
    "x"
   ]
  },
  {
   "cell_type": "code",
   "execution_count": 5,
   "id": "c090b6fb",
   "metadata": {},
   "outputs": [
    {
     "data": {
      "text/plain": [
       "array([12, 11, 10,  9,  8,  7,  6,  5,  4])"
      ]
     },
     "execution_count": 5,
     "metadata": {},
     "output_type": "execute_result"
    }
   ],
   "source": [
    "## b. creating a varible y\n",
    "y=x[::-1]\n",
    "y"
   ]
  },
  {
   "cell_type": "code",
   "execution_count": 6,
   "id": "657c8228",
   "metadata": {},
   "outputs": [
    {
     "data": {
      "text/plain": [
       "array([20, 19, 18, 17, 16, 15, 14, 13, 12, 11, 10,  9,  8,  7,  6,  5,  4,\n",
       "        3])"
      ]
     },
     "execution_count": 6,
     "metadata": {},
     "output_type": "execute_result"
    }
   ],
   "source": [
    "## c.creating a varible z\n",
    "z=D[::-1]\n",
    "z"
   ]
  },
  {
   "cell_type": "markdown",
   "id": "57f83847",
   "metadata": {},
   "source": [
    "# # 3.Numpy arrays are better than lists in python\n"
   ]
  },
  {
   "cell_type": "markdown",
   "id": "2ed1cf85",
   "metadata": {},
   "source": [
    "# A numpy arrays is a grid of values,all of the same type, and is indexed by a tuple of non-negative integers. the no.of dimensions is the rank of the array, the shape of an array is a tuple of integers giving the size of the array along each dimension.\n",
    "\n",
    "# A list is the python equivalent of array, but is resizeable and can contain elements in diffrent types."
   ]
  },
  {
   "cell_type": "markdown",
   "id": "04e8f795",
   "metadata": {},
   "source": [
    "# # 4.The data types supported by Numpy"
   ]
  },
  {
   "cell_type": "markdown",
   "id": "9aa5d88e",
   "metadata": {},
   "source": [
    "# **BUILT-IN Data types\n",
    "# i -integer\n",
    "# b -boolean\n",
    "# u -unsigned\n",
    "# f -float\n",
    "# c -complex float\n",
    "# m -time delta\n",
    "# M -date time\n",
    "# O -object\n",
    "# S -string\n",
    "# U -unicode string\n",
    "# V -void\n",
    "\n",
    "# **Scalar Data types\n",
    "# bool_ -return boolean true or false\n",
    "# int_ -default integer type(int 64 or 34)\n",
    "# intc -identical to integer in c(int 64 or 32)\n",
    "# intp -integer value used for indexing\n",
    "# int8 -assigning 8bit integer value(-128 to 127)\n",
    "# int16 -assigning 16bit integer value(-32768 to 32767)\n",
    "# int32 –assigning 32-bit integer value(-2147483648 to 2147483647)\n",
    "# int32 –assigning 64-bit integer value(-9223372036854775808 to 9223372036854775807)\n",
    "# uint8 –assigning unsigned 8-bit integer value(0 to 255)\n",
    "# uint16 – It is for assigning unsigned 16-bit integer value (0 to 65535)\n",
    "# uint32 – It is for assigning unsigned 32-bit integer value (0 to 4294967295)\n",
    "# uint64 – It is for assigning unsigned 64-bit integer value (0 to 18446744073709551615)\n",
    "# float_ –assign float values.\n",
    "# float16 –half precision float values.\n",
    "# float32 –single-precision float values.\n",
    "# float64 –double-precision float values.\n",
    "# complex_ –assign complex values.\n",
    "# complex64 –represent two 32-bit float complex values (real and imaginary)\n",
    "# complex128 –represent two 64-bit float complex values (real and imaginary)\n"
   ]
  },
  {
   "cell_type": "code",
   "execution_count": null,
   "id": "024520e4",
   "metadata": {},
   "outputs": [],
   "source": []
  }
 ],
 "metadata": {
  "kernelspec": {
   "display_name": "Python 3 (ipykernel)",
   "language": "python",
   "name": "python3"
  },
  "language_info": {
   "codemirror_mode": {
    "name": "ipython",
    "version": 3
   },
   "file_extension": ".py",
   "mimetype": "text/x-python",
   "name": "python",
   "nbconvert_exporter": "python",
   "pygments_lexer": "ipython3",
   "version": "3.9.10"
  }
 },
 "nbformat": 4,
 "nbformat_minor": 5
}
